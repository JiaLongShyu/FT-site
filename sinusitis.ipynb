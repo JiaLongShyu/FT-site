{
 "cells": [
  {
   "cell_type": "code",
   "execution_count": 1,
   "id": "coordinate-translator",
   "metadata": {},
   "outputs": [
    {
     "data": {
      "application/vnd.jupyter.widget-view+json": {
       "model_id": "45220450c1de40a8829ded49e5560293",
       "version_major": 2,
       "version_minor": 0
      },
      "text/plain": [
       "FileUpload(value={}, accept='.wav', description='Upload')"
      ]
     },
     "metadata": {},
     "output_type": "display_data"
    },
    {
     "data": {
      "application/vnd.jupyter.widget-view+json": {
       "model_id": "896de21721a64b7999de6a2579680a5f",
       "version_major": 2,
       "version_minor": 0
      },
      "text/plain": [
       "FloatSlider(value=0.02, description='Duration per window', max=0.1, min=0.01, step=0.01, style=SliderStyle(des…"
      ]
     },
     "metadata": {},
     "output_type": "display_data"
    },
    {
     "data": {
      "application/vnd.jupyter.widget-view+json": {
       "model_id": "cd961e1467184d418a0241b882c54c56",
       "version_major": 2,
       "version_minor": 0
      },
      "text/plain": [
       "IntSlider(value=25, description='Noise PR', max=50, min=1, style=SliderStyle(description_width='initial'))"
      ]
     },
     "metadata": {},
     "output_type": "display_data"
    },
    {
     "data": {
      "application/vnd.jupyter.widget-view+json": {
       "model_id": "3438ef23303e4f0ab302000975159718",
       "version_major": 2,
       "version_minor": 0
      },
      "text/plain": [
       "IntSlider(value=300, description='VLHR threshold', max=400, min=100, step=10, style=SliderStyle(description_wi…"
      ]
     },
     "metadata": {},
     "output_type": "display_data"
    }
   ],
   "source": [
    "import voice_analyzer\n",
    "import codecs\n",
    "import ipywidgets as widgets\n",
    "import io\n",
    "import scipy.io.wavfile\n",
    "\n",
    "uploader = widgets.FileUpload(\n",
    "    accept='.wav',  # Accepted file extension e.g. '.txt', '.pdf', 'image/*', 'image/*,.pdf'\n",
    "    multiple=False  # True to accept multiple files upload else False\n",
    ")\n",
    "display(uploader)\n",
    "\n",
    "style = {'description_width': 'initial'}\n",
    "window_time = widgets.FloatSlider(description='Duration per window', \n",
    "                                  value=0.02,\n",
    "                                  min=0.01, max=0.1,\n",
    "                                  step=0.01,\n",
    "                                  style=style,  \n",
    "                                  readout_format='.2f')\n",
    "display(window_time)\n",
    "noise_percentile = widgets.IntSlider(description='Noise PR', \n",
    "                                  value=25,\n",
    "                                  min=1, max=50,\n",
    "                                  step=1,\n",
    "                                  style=style,  \n",
    "                                  )\n",
    "display(noise_percentile)\n",
    "VLHR_threshold = widgets.IntSlider(description='VLHR threshold', \n",
    "                                  value=300,\n",
    "                                  min=100, max=400,\n",
    "                                  step=10,\n",
    "                                  style=style,  \n",
    "                                  )\n",
    "display(VLHR_threshold)"
   ]
  },
  {
   "cell_type": "code",
   "execution_count": null,
   "id": "opening-bones",
   "metadata": {},
   "outputs": [],
   "source": [
    "uploaded_filename = next(iter(uploader.value))\n",
    "y = uploader.value[uploaded_filename]['content']\n",
    "file = io.BytesIO(y)\n",
    "sr, y_original = scipy.io.wavfile.read(io.BytesIO(y))\n",
    "\n",
    "voice_analyzer.analyze(file, uploaded_filename, \n",
    "                       window_time = window_time.value, \n",
    "                       noise_percentile = noise_percentile.value, \n",
    "                       VLHR_threshold = VLHR_threshold.value)"
   ]
  },
  {
   "cell_type": "code",
   "execution_count": null,
   "id": "broad-disposition",
   "metadata": {},
   "outputs": [],
   "source": []
  }
 ],
 "metadata": {
  "kernelspec": {
   "display_name": "Python 3",
   "language": "python",
   "name": "python3"
  },
  "language_info": {
   "codemirror_mode": {
    "name": "ipython",
    "version": 3
   },
   "file_extension": ".py",
   "mimetype": "text/x-python",
   "name": "python",
   "nbconvert_exporter": "python",
   "pygments_lexer": "ipython3",
   "version": "3.7.8"
  }
 },
 "nbformat": 4,
 "nbformat_minor": 5
}
